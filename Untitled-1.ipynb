[
	{
		"metadata": {
			"outputType": "stream"
		},
		"outputItems": [
			{
				"mimeType": "application/vnd.code.notebook.stdout",
				"data": "[Music]\n[Music]\ni don't like victory\n[Music]\nyou know\n[Music]\ni did it\n[Music]\nmy millions\n[Music]\nmy\n[Music]\nwho's hanging over the world\n[Music]\nyou\n"
			}
		]
	}
]